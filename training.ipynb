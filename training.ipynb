{
 "cells": [
  {
   "cell_type": "markdown",
   "metadata": {},
   "source": [
    "# Initialization"
   ]
  },
  {
   "cell_type": "code",
   "execution_count": null,
   "metadata": {},
   "outputs": [],
   "source": [
    "from citylearn.citylearn import CityLearnEnv\n",
    "import time, random, typing, cProfile, traceback\n",
    "import numpy as np\n",
    "\n",
    "def action_space_to_dict(aspace):\n",
    "    \"\"\" Only for box space \"\"\"\n",
    "    return { \"high\": aspace.high,\n",
    "             \"low\": aspace.low,\n",
    "             \"shape\": aspace.shape,\n",
    "             \"dtype\": str(aspace.dtype)\n",
    "    }\n",
    "\n",
    "def env_reset(env):\n",
    "    observations = env.reset()\n",
    "    action_space = env.action_space\n",
    "    observation_space = env.observation_space\n",
    "    building_info = env.get_building_information()\n",
    "    building_info = list(building_info.values())\n",
    "    action_space_dicts = [action_space_to_dict(asp) for asp in action_space]\n",
    "    observation_space_dicts = [action_space_to_dict(osp) for osp in observation_space]\n",
    "    obs_dict = {\"action_space\": action_space_dicts,\n",
    "                \"observation_space\": observation_space_dicts,\n",
    "                \"building_info\": building_info,\n",
    "                \"observation\": observations }\n",
    "    return obs_dict"
   ]
  },
  {
   "cell_type": "markdown",
   "metadata": {},
   "source": [
    "# Agent Setup"
   ]
  },
  {
   "cell_type": "code",
   "execution_count": null,
   "metadata": {},
   "outputs": [],
   "source": [
    "class Constants:\n",
    "    episodes = 3\n",
    "    schema_path = './data/citylearn_challenge_2022_phase_1/schema.json'\n",
    "\n",
    "from agents.agents import ddpg\n",
    "from agents.networks import central_critic, comm_net\n",
    "from agents.features import *\n",
    "from rewards import get_reward, rewards\n",
    "\n",
    "from agents.orderenforcingwrapper import OrderEnforcingAgent\n",
    "\n",
    "agent_wrapper = OrderEnforcingAgent(agent = ddpg.DDPGAgent(\n",
    "    actor = comm_net.CommNet,\n",
    "    critic = central_critic.CentralCritic,\n",
    "    actor_feature=BaseFeatureEngineer(),\n",
    "    critic_feature=CentralCriticEngineer(BaseFeatureEngineer())\n",
    "))\n",
    "\n",
    "get_reward.reward_function = rewards.default_reward\n"
   ]
  },
  {
   "cell_type": "markdown",
   "metadata": {},
   "source": [
    "# Training"
   ]
  },
  {
   "cell_type": "code",
   "execution_count": null,
   "metadata": {},
   "outputs": [],
   "source": [
    "def train (agent_json = None,\n",
    "           episodes_number = 3,\n",
    "           schema_path = './data/citylearn_challenge_2022_phase_1/schema.json',\n",
    "           experiment_id = str(random.randint(0,10000)),\n",
    "           preload = False):\n",
    "    '''\n",
    "    Run a training session, save results\n",
    "    '''\n",
    "\n",
    "    # TODO: Agent should be initalized with JSON here\n",
    "\n",
    "    env = CityLearnEnv(schema=Constants.schema_path)\n",
    "    obs_dict = env_reset(env)\n",
    "\n",
    "    agent = agent_wrapper\n",
    "\n",
    "    actions = agent.register_reset(obs_dict)\n",
    "\n",
    "    episodes_completed = 0\n",
    "    interrupted = False\n",
    "    episode_metrics = []\n",
    "\n",
    "    try:\n",
    "        while True:\n",
    "            observations, _, done, _ = env.step(actions)\n",
    "            if done:\n",
    "                episodes_completed += 1\n",
    "                metrics_t = env.evaluate()\n",
    "\n",
    "                metrics = {\"price_cost\": metrics_t[0], \"emmision_cost\": metrics_t[1]}\n",
    "                episode_metrics.append(metrics)\n",
    "                print(f\"Episode complete: {episodes_completed} | Latest episode metrics: {metrics}\", )\n",
    "\n",
    "                obs_dict = env_reset(env)\n",
    "\n",
    "                actions = agent.register_reset(obs_dict)\n",
    "            else:\n",
    "                actions = agent.compute_action(observations)\n",
    "\n",
    "            if episodes_completed >= episodes_number:\n",
    "                break\n",
    "    except KeyboardInterrupt:\n",
    "        print(\"========================= Stopping Evaluation =========================\")\n",
    "        interrupted = True\n",
    "\n",
    "    if not interrupted:\n",
    "        print(\"=========================Completed=========================\")\n"
   ]
  },
  {
   "cell_type": "code",
   "execution_count": null,
   "metadata": {},
   "outputs": [],
   "source": [
    "train()"
   ]
  }
 ],
 "metadata": {
  "kernelspec": {
   "display_name": "Python 3.8.10 ('env': venv)",
   "language": "python",
   "name": "python3"
  },
  "language_info": {
   "codemirror_mode": {
    "name": "ipython",
    "version": 3
   },
   "file_extension": ".py",
   "mimetype": "text/x-python",
   "name": "python",
   "nbconvert_exporter": "python",
   "pygments_lexer": "ipython3",
   "version": "3.8.10"
  },
  "orig_nbformat": 4,
  "vscode": {
   "interpreter": {
    "hash": "c8eba5e1ea696c6f52a891e98e9d85dda3469a737f80f8873b5aac718fce636c"
   }
  }
 },
 "nbformat": 4,
 "nbformat_minor": 2
}
