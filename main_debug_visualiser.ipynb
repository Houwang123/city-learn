{
 "cells": [
  {
   "cell_type": "code",
   "execution_count": 1,
   "metadata": {},
   "outputs": [
    {
     "data": {
      "application/vnd.jupyter.widget-view+json": {
       "model_id": "5c8212022fcd4d2bbd0b35d192658194",
       "version_major": 2,
       "version_minor": 0
      },
      "text/plain": [
       "VBox(children=(Button(description='New Experiment', icon='plus', style=ButtonStyle(), tooltip='Click me'), Tab…"
      ]
     },
     "execution_count": 1,
     "metadata": {},
     "output_type": "execute_result"
    },
    {
     "name": "stdout",
     "output_type": "stream",
     "text": [
      "========================================\n",
      "Warning: Duplicate experiment ID.\n",
      "Continuing overwrite\n",
      "Loading agent <class 'agents.agents.ddpg.TD3Agent'>\n",
      "Setting reward <function simple_reward at 0x000001E5986C38B0>\n",
      "Setting environment ./data/citylearn_challenge_2022_phase_1/schema.json\n",
      "Episode complete: 0 | Score: 2.614842734135829\n",
      "Best episode 0\n"
     ]
    },
    {
     "name": "stderr",
     "output_type": "stream",
     "text": [
      "C:\\Users\\86189\\AppData\\Local\\Packages\\PythonSoftwareFoundation.Python.3.9_qbz5n2kfra8p0\\LocalCache\\local-packages\\Python39\\site-packages\\ipykernel\\pylab\\backend_inline.py:10: DeprecationWarning: `ipykernel.pylab.backend_inline` is deprecated, directly use `matplotlib_inline.backend_inline`\n",
      "  warnings.warn(\n"
     ]
    },
    {
     "name": "stdout",
     "output_type": "stream",
     "text": [
      "========================================\n",
      "Warning: Duplicate experiment ID.\n",
      "Continuing overwrite\n",
      "Loading agent <class 'agents.agents.ddpg.TD3Agent'>\n",
      "Setting reward <function simple_reward at 0x000001E5986C38B0>\n",
      "Setting environment ./data/citylearn_challenge_2022_phase_1/schema.json\n"
     ]
    }
   ],
   "source": [
    "%load_ext autoreload\n",
    "%autoreload 2\n",
    "\n",
    "from visualiser.experiment_ui import ExperimentUI\n",
    "\n",
    "ui = ExperimentUI()\n",
    "\n",
    "ui.get_ui_object()"
   ]
  }
 ],
 "metadata": {
  "kernelspec": {
   "display_name": "Python 3.9.13 64-bit (windows store)",
   "language": "python",
   "name": "python3"
  },
  "language_info": {
   "codemirror_mode": {
    "name": "ipython",
    "version": 3
   },
   "file_extension": ".py",
   "mimetype": "text/x-python",
   "name": "python",
   "nbconvert_exporter": "python",
   "pygments_lexer": "ipython3",
   "version": "3.9.13"
  },
  "orig_nbformat": 4,
  "vscode": {
   "interpreter": {
    "hash": "b5540584822a83eaeb7bd0ad0d1fb82127af7e08a51b8fb952b017841a5fa67d"
   }
  }
 },
 "nbformat": 4,
 "nbformat_minor": 2
}
