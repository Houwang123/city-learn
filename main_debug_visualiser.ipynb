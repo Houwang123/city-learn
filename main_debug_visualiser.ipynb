{
 "cells": [
  {
   "cell_type": "code",
   "execution_count": 7,
   "metadata": {},
   "outputs": [
    {
     "name": "stdout",
     "output_type": "stream",
     "text": [
      "The autoreload extension is already loaded. To reload it, use:\n",
      "  %reload_ext autoreload\n"
     ]
    },
    {
     "data": {
      "application/vnd.jupyter.widget-view+json": {
       "model_id": "426bf8ba0f194143969e9f7c0bb13f55",
       "version_major": 2,
       "version_minor": 0
      },
      "text/plain": [
       "VBox(children=(Button(description='New Experiment', icon='plus', style=ButtonStyle(), tooltip='Click me'), Tab…"
      ]
     },
     "execution_count": 7,
     "metadata": {},
     "output_type": "execute_result"
    },
    {
     "name": "stdout",
     "output_type": "stream",
     "text": [
      "========================================\n",
      "Warning: Duplicate experiment ID.\n",
      "Continuing overwrite\n",
      "Loading agent <class 'agents.agents.ddpg.TD3Agent'>\n",
      "Setting reward <function simple_reward at 0x000001748B3BD550>\n",
      "Setting environment ./data/citylearn_challenge_2022_phase_1/schema.json\n"
     ]
    }
   ],
   "source": [
    "%load_ext autoreload\n",
    "%autoreload 2\n",
    "\n",
    "from visualiser.experiment_ui import ExperimentUI\n",
    "\n",
    "ui = ExperimentUI(True)\n",
    "\n",
    "ui.get_ui_object()"
   ]
  },
  {
   "cell_type": "code",
   "execution_count": null,
   "metadata": {},
   "outputs": [],
   "source": []
  }
 ],
 "metadata": {
  "kernelspec": {
   "display_name": "Python 3 (ipykernel)",
   "language": "python",
   "name": "python3"
  },
  "language_info": {
   "codemirror_mode": {
    "name": "ipython",
    "version": 3
   },
   "file_extension": ".py",
   "mimetype": "text/x-python",
   "name": "python",
   "nbconvert_exporter": "python",
   "pygments_lexer": "ipython3",
   "version": "3.8.10"
  },
  "vscode": {
   "interpreter": {
    "hash": "c8eba5e1ea696c6f52a891e98e9d85dda3469a737f80f8873b5aac718fce636c"
   }
  }
 },
 "nbformat": 4,
 "nbformat_minor": 2
}
