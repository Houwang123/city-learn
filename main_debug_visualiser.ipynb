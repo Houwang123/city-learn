{
 "cells": [
  {
   "cell_type": "code",
   "execution_count": 1,
   "metadata": {},
   "outputs": [],
   "source": [
    "%load_ext autoreload\n",
    "%autoreload 2\n",
    "import ipywidgets as widgets\n",
    "from ipywidgets import interact, interactive\n",
    "\n",
    "from citylearn.citylearn import CityLearnEnv\n",
    "import time, random, typing, cProfile, traceback\n",
    "import numpy as np\n",
    "from common.initialization_methods import *\n",
    "from visualiser.frame_cache import *\n",
    "\n",
    "class Constants:\n",
    "    episodes = 3\n",
    "    schema_path = './data/citylearn_challenge_2022_phase_1/schema.json'\n",
    "    steps_per_frame_save = 1\n",
    "\n",
    "from agents.agents import ddpg\n",
    "from agents.networks import central_critic, comm_net\n",
    "from agents.features import *\n",
    "from rewards import get_reward, rewards\n",
    "\n",
    "from agents.orderenforcingwrapper import OrderEnforcingAgent\n",
    "\n",
    "agent_wrapper = OrderEnforcingAgent(agent = ddpg.DDPGAgent(\n",
    "    actor = comm_net.CommNet,\n",
    "    critic = central_critic.CentralCritic,\n",
    "    actor_feature=BaseFeatureEngineer(),\n",
    "    critic_feature=CentralCriticEngineer(BaseFeatureEngineer())\n",
    "))\n",
    "\n",
    "get_reward.reward_function = rewards.default_reward\n",
    "\n",
    "agent_dict = {\"ddpg\" : ddpg.DDPGAgent}\n",
    "agent_spec_dict = {\"ddpg\" : {\n",
    "    \"actor\" : comm_net.CommNet,\n",
    "    \"critic\" : central_critic.CentralCritic,\n",
    "    \"actor_feature\":BaseFeatureEngineer(),\n",
    "    \"critic_feature\":CentralCriticEngineer(BaseFeatureEngineer()),\n",
    "    \"a_kwargs\" : {},\n",
    "    \"c_kwargs\" : {},\n",
    "    \"gamma\" : 0.99, \n",
    "    \"lr\" : 3e-4 ,\n",
    "    \"tau\" : 0.001,\n",
    "    \"batch_size\" : 32,\n",
    "    \"memory_size\" : 4096,\n",
    "    \"device\" : 'cpu'\n",
    "}}\n",
    "agent_obj_field = {\"ddpg\" : {\n",
    "    \"actor\", \"critic\", \"actor_feature\", \"critic_feature\"\n",
    "}}\n",
    "agent_obj_value = {\"ddpg\" : {\n",
    "    \"comm_net.CommNet\" : comm_net.CommNet,\n",
    "    \"central_critic.CentralCritic\" :central_critic.CentralCritic,\n",
    "    \"BaseFeatureEngineer()\" :BaseFeatureEngineer(),\n",
    "    \"CentralCriticEngineer(BaseFeatureEngineer())\" :CentralCriticEngineer(BaseFeatureEngineer())\n",
    "}}\n",
    "\n",
    "reward_function_dict = {\"default_reward\" : rewards.default_reward}\n",
    "\n",
    "import json\n",
    "with open('json_example.json') as f:\n",
    "    specs = json.load(f)\n",
    "\n",
    "agent_input_specs = specs.get(\"agent\")\n",
    "agent_name = agent_input_specs.get(\"name\")\n",
    "agent_use_specs = agent_spec_dict.get(agent_name)\n",
    "\n",
    "for key in agent_use_specs:\n",
    "    if key in agent_input_specs.keys():\n",
    "        if key in agent_obj_field[agent_name]:\n",
    "             obj_key = agent_input_specs[key]\n",
    "             agent_use_specs[key] = agent_obj_value[agent_name][obj_key]\n",
    "        else:\n",
    "            agent_use_specs[key] = agent_input_specs[key]\n",
    "agent_paras = tuple(agent_use_specs.values())\n",
    "\n",
    "\n",
    "agent_wrapper = OrderEnforcingAgent(agent = agent_dict[agent_name](\n",
    "    *agent_paras\n",
    "))\n",
    "\n",
    "if \"reward\" in specs.keys():\n",
    "    reward_function_name = specs[\"reward\"]\n",
    "    get_reward.reward_function = reward_function_dict[reward_function_name]\n",
    "\n",
    "def train (agent_json = None,\n",
    "           episodes_number = 3,\n",
    "           schema_path = './data/citylearn_challenge_2022_phase_1/schema.json',\n",
    "           experiment_id = str(random.randint(0,10000)),\n",
    "           preload = False):\n",
    "    '''\n",
    "    Run a training session, save results\n",
    "    '''\n",
    "    print(\"============= Start Evaluation =============\")\n",
    "\n",
    "    # TODO: Agent should be initalized with JSON here\n",
    "\n",
    "    env = CityLearnEnv(schema=Constants.schema_path)\n",
    "    obs_dict = env_reset(env)\n",
    "\n",
    "    agent = agent_wrapper\n",
    "\n",
    "    actions = agent.register_reset(obs_dict)\n",
    "\n",
    "    episodes_completed = 0\n",
    "    num_steps = 0\n",
    "    interrupted = False\n",
    "    episode_metrics = []\n",
    "\n",
    "    try:\n",
    "        while True:\n",
    "            observations, _, done, _ = env.step(actions)\n",
    "            if done:\n",
    "                episodes_completed += 1\n",
    "                metrics_t = env.evaluate()\n",
    "\n",
    "                metrics = {\"price_cost\": metrics_t[0], \"emmision_cost\": metrics_t[1]}\n",
    "                episode_metrics.append(metrics)\n",
    "                print(f\"Episode complete: {episodes_completed} | Latest episode metrics: {metrics}\", )\n",
    "\n",
    "                obs_dict = env_reset(env)\n",
    "\n",
    "                actions = agent.register_reset(obs_dict)\n",
    "            else:\n",
    "                actions = agent.compute_action(observations)\n",
    "\n",
    "            num_steps += 1\n",
    "            if num_steps % Constants.steps_per_frame_save == 0:\n",
    "                append_one_frame(env.render())\n",
    "\n",
    "            if episodes_completed >= episodes_number:\n",
    "                break\n",
    "    except KeyboardInterrupt:\n",
    "        print(\"========================= Stopping Evaluation =========================\")\n",
    "        interrupted = True\n",
    "\n",
    "    if not interrupted:\n",
    "        print(\"=========================Completed=========================\")"
   ]
  },
  {
   "cell_type": "code",
   "execution_count": 3,
   "metadata": {},
   "outputs": [
    {
     "name": "stdout",
     "output_type": "stream",
     "text": [
      "============= Start Evaluation =============\n",
      "========================= Stopping Evaluation =========================\n"
     ]
    }
   ],
   "source": [
    "train()"
   ]
  },
  {
   "cell_type": "code",
   "execution_count": 4,
   "metadata": {},
   "outputs": [
    {
     "name": "stderr",
     "output_type": "stream",
     "text": [
      "C:\\Users\\86189\\AppData\\Local\\Packages\\PythonSoftwareFoundation.Python.3.9_qbz5n2kfra8p0\\LocalCache\\local-packages\\Python39\\site-packages\\ipykernel\\pylab\\backend_inline.py:10: DeprecationWarning: `ipykernel.pylab.backend_inline` is deprecated, directly use `matplotlib_inline.backend_inline`\n",
      "  warnings.warn(\n"
     ]
    },
    {
     "data": {
      "application/vnd.jupyter.widget-view+json": {
       "model_id": "f8dafbdaa6bd43c994354d206d0f8871",
       "version_major": 2,
       "version_minor": 0
      },
      "text/plain": [
       "VBox(children=(Button(description='Train', style=ButtonStyle()), HBox(children=(Play(value=0, description='Pre…"
      ]
     },
     "metadata": {},
     "output_type": "display_data"
    },
    {
     "name": "stdout",
     "output_type": "stream",
     "text": [
      "============= Start Evaluation =============\n"
     ]
    }
   ],
   "source": [
    "train_button = widgets.Button(description=\"Train\")\n",
    "train_button.on_click(train)\n",
    "from IPython.display import display\n",
    "def _show(x):\n",
    "    display(get_image_of_frame_at(x))\n",
    "frame_slider = widgets.IntSlider(min=0, max=get_total_frame_number() - 1, value=0)\n",
    "frame_player = widgets.Play(\n",
    "    value=0,\n",
    "    min=0,\n",
    "    max=get_total_frame_number() - 1,\n",
    "    step=1,\n",
    "    interval=500,\n",
    "    description=\"Press play\",\n",
    "    disabled=False\n",
    ")\n",
    "frame_input_ui = widgets.HBox([frame_player, frame_slider])\n",
    "widgets.jslink((frame_slider, 'value'), (frame_player, 'value'))\n",
    "img_output = widgets.interactive_output(_show, {'x': frame_slider})\n",
    "img_ui = widgets.VBox([train_button, frame_input_ui, img_output])\n",
    "display(img_ui)"
   ]
  }
 ],
 "metadata": {
  "kernelspec": {
   "display_name": "Python 3.9.13 64-bit (windows store)",
   "language": "python",
   "name": "python3"
  },
  "language_info": {
   "codemirror_mode": {
    "name": "ipython",
    "version": 3
   },
   "file_extension": ".py",
   "mimetype": "text/x-python",
   "name": "python",
   "nbconvert_exporter": "python",
   "pygments_lexer": "ipython3",
   "version": "3.9.13"
  },
  "orig_nbformat": 4,
  "vscode": {
   "interpreter": {
    "hash": "b5540584822a83eaeb7bd0ad0d1fb82127af7e08a51b8fb952b017841a5fa67d"
   }
  }
 },
 "nbformat": 4,
 "nbformat_minor": 2
}
