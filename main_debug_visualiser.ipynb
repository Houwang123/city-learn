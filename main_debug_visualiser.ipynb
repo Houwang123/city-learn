{
 "cells": [
  {
   "cell_type": "code",
   "execution_count": 1,
   "metadata": {},
   "outputs": [
    {
     "data": {
      "application/vnd.jupyter.widget-view+json": {
       "model_id": "426bf8ba0f194143969e9f7c0bb13f55",
       "version_major": 2,
       "version_minor": 0
      },
      "text/plain": [
       "VBox(children=(Button(description='New Experiment', icon='plus', style=ButtonStyle(), tooltip='Click me'), Tab…"
      ]
     },
     "execution_count": 1,
     "metadata": {},
     "output_type": "execute_result"
    },
    {
     "name": "stdout",
     "output_type": "stream",
     "text": [
      "========================================\n",
      "Warning: Duplicate experiment ID.\n",
      "Continuing overwrite\n",
      "Loading agent <class 'agents.agents.ddpg.TD3Agent'>\n",
      "Setting reward <function simple_reward at 0x000001748B3BD550>\n",
      "Setting environment ./data/citylearn_challenge_2022_phase_1/schema.json\n"
     ]
    }
   ],
   "source": [
    "%load_ext autoreload\n",
    "%autoreload 2\n",
    "\n",
    "from visualiser.experiment_ui import ExperimentUI\n",
    "\n",
    "ui = ExperimentUI(True)\n",
    "\n",
    "ui.get_ui_object()"
   ]
  },
  {
   "cell_type": "code",
   "execution_count": null,
   "metadata": {},
   "outputs": [],
   "source": []
  }
 ],
 "metadata": {
  "kernelspec": {
   "display_name": "Python 3 (ipykernel)",
   "language": "python",
   "name": "python3"
  },
  "language_info": {
   "codemirror_mode": {
    "name": "ipython",
    "version": 3
   },
   "file_extension": ".py",
   "mimetype": "text/x-python",
   "name": "python",
   "nbconvert_exporter": "python",
   "pygments_lexer": "ipython3",
   "version": "3.9.13"
  },
  "vscode": {
   "interpreter": {
    "hash": "b5540584822a83eaeb7bd0ad0d1fb82127af7e08a51b8fb952b017841a5fa67d"
   }
  }
 },
 "nbformat": 4,
 "nbformat_minor": 2
}
