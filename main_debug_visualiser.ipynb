{
 "cells": [
  {
   "cell_type": "code",
   "execution_count": 7,
   "metadata": {},
   "outputs": [
    {
     "name": "stdout",
     "output_type": "stream",
     "text": [
      "The autoreload extension is already loaded. To reload it, use:\n",
      "  %reload_ext autoreload\n"
     ]
    },
    {
     "data": {
      "application/vnd.jupyter.widget-view+json": {
       "model_id": "65bdffa847ff433981d3c12d75e0ff16",
       "version_major": 2,
       "version_minor": 0
      },
      "text/plain": [
       "VBox(children=(Button(description='New Experiment', icon='plus', style=ButtonStyle(), tooltip='Click me'), Tab…"
      ]
     },
     "execution_count": 7,
     "metadata": {},
     "output_type": "execute_result"
    },
    {
     "name": "stdout",
     "output_type": "stream",
     "text": [
      "========================================\n",
      "Warning: Duplicate experiment ID.\n",
      "Continuing overwrite\n",
      "Loading agent <class 'agents.agents.ddpg.TD3Agent'>\n",
      "Setting reward <function simple_reward at 0x000001D3F5E3D550>\n",
      "Setting environment ./data/citylearn_challenge_2022_phase_1/schema.json\n",
      "========================================\n",
      "Warning: Duplicate experiment ID.\n",
      "Continuing overwrite\n",
      "Loading agent <class 'agents.agents.ddpg.DDPGAgent'>\n",
      "Setting reward <function simple_reward at 0x000001D3F5E3D550>\n",
      "Setting environment ./data/citylearn_challenge_2022_phase_1/schema.json\n",
      "========================================\n",
      "Warning: Duplicate experiment ID.\n",
      "Continuing overwrite\n",
      "Loading agent <class 'agents.agents.ddpg.TD3Agent'>\n",
      "Setting reward <function simple_reward at 0x000001D3F5E3D550>\n",
      "Setting environment ./data/citylearn_challenge_2022_phase_1/schema.json\n",
      "========================================\n",
      "Warning: Duplicate experiment ID.\n",
      "Continuing overwrite\n",
      "Loading agent <class 'agents.agents.ddpg.TD3Agent'>\n",
      "Setting reward <function simple_reward at 0x000001D3F5E3D550>\n",
      "Setting environment ./data/citylearn_challenge_2022_phase_1/schema.json\n",
      "Episode complete: 0 | Score: 2.6062356449813544\n",
      "Best episode 0\n"
     ]
    },
    {
     "name": "stderr",
     "output_type": "stream",
     "text": [
      "C:\\Users\\86189\\AppData\\Local\\Packages\\PythonSoftwareFoundation.Python.3.9_qbz5n2kfra8p0\\LocalCache\\local-packages\\Python39\\site-packages\\ipykernel\\pylab\\backend_inline.py:10: DeprecationWarning: `ipykernel.pylab.backend_inline` is deprecated, directly use `matplotlib_inline.backend_inline`\n",
      "  warnings.warn(\n"
     ]
    },
    {
     "name": "stdout",
     "output_type": "stream",
     "text": [
      "Episode complete: 0 | Score: 2.603880494967064\n",
      "Best episode 0\n",
      "Episode complete: 0 | Score: 2.58842460661867\n",
      "Best episode 0\n"
     ]
    }
   ],
   "source": [
    "%load_ext autoreload\n",
    "%autoreload 2\n",
    "\n",
    "from visualiser.experiment_ui import ExperimentUI\n",
    "\n",
    "ui = ExperimentUI(True)\n",
    "\n",
    "ui.get_ui_object()"
   ]
  }
 ],
 "metadata": {
  "kernelspec": {
   "display_name": "Python 3 (ipykernel)",
   "language": "python",
   "name": "python3"
  },
  "language_info": {
   "codemirror_mode": {
    "name": "ipython",
    "version": 3
   },
   "file_extension": ".py",
   "mimetype": "text/x-python",
   "name": "python",
   "nbconvert_exporter": "python",
   "pygments_lexer": "ipython3",
   "version": "3.8.10"
  },
  "vscode": {
   "interpreter": {
    "hash": "c8eba5e1ea696c6f52a891e98e9d85dda3469a737f80f8873b5aac718fce636c"
   }
  }
 },
 "nbformat": 4,
 "nbformat_minor": 2
}
