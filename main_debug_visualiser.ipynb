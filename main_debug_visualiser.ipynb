{
 "cells": [
  {
   "cell_type": "code",
   "execution_count": 10,
   "metadata": {},
   "outputs": [
    {
     "name": "stdout",
     "output_type": "stream",
     "text": [
      "The autoreload extension is already loaded. To reload it, use:\n",
      "  %reload_ext autoreload\n"
     ]
    },
    {
     "data": {
      "application/vnd.jupyter.widget-view+json": {
       "model_id": "3e80a04abf05497193ab5a011f6ef17b",
       "version_major": 2,
       "version_minor": 0
      },
      "text/plain": [
       "VBox(children=(Button(description='New Experiment', icon='plus', style=ButtonStyle(), tooltip='Click me'), Tab…"
      ]
     },
     "execution_count": 10,
     "metadata": {},
     "output_type": "execute_result"
    },
    {
     "name": "stdout",
     "output_type": "stream",
     "text": [
      "========================================\n",
      "Warning: Duplicate experiment ID.\n",
      "Continuing overwrite\n",
      "Loading agent <class 'agents.agents.ddpg.TD3Agent'>\n",
      "Setting reward <function simple_reward at 0x00000146E43B2790>\n",
      "Setting environment ./data/citylearn_challenge_2022_phase_1/schema.json\n"
     ]
    }
   ],
   "source": [
    "%load_ext autoreload\n",
    "%autoreload 2\n",
    "\n",
    "from visualiser.experiment_ui import ExperimentUI\n",
    "\n",
    "ui = ExperimentUI()\n",
    "\n",
    "ui.get_ui_object()"
   ]
  }
 ],
 "metadata": {
  "kernelspec": {
   "display_name": "Python 3.9.13 64-bit (windows store)",
   "language": "python",
   "name": "python3"
  },
  "language_info": {
   "codemirror_mode": {
    "name": "ipython",
    "version": 3
   },
   "file_extension": ".py",
   "mimetype": "text/x-python",
   "name": "python",
   "nbconvert_exporter": "python",
   "pygments_lexer": "ipython3",
   "version": "3.9.13"
  },
  "orig_nbformat": 4,
  "vscode": {
   "interpreter": {
    "hash": "b5540584822a83eaeb7bd0ad0d1fb82127af7e08a51b8fb952b017841a5fa67d"
   }
  }
 },
 "nbformat": 4,
 "nbformat_minor": 2
}
