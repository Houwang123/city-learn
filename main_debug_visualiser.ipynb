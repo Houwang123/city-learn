{
 "cells": [
  {
   "cell_type": "code",
   "execution_count": 1,
   "metadata": {},
   "outputs": [
    {
     "data": {
      "application/vnd.jupyter.widget-view+json": {
       "model_id": "5cc6fcfc5dda43aeb8a86a5391d5b9ee",
       "version_major": 2,
       "version_minor": 0
      },
      "text/plain": [
       "VBox(children=(VBox(children=(BoundedIntText(value=1, description='Number of episodes (years):', max=999, min=…"
      ]
     },
     "metadata": {},
     "output_type": "display_data"
    },
    {
     "name": "stdout",
     "output_type": "stream",
     "text": [
      "New experiment id:2\n",
      "========================================\n",
      "Loading agent <class 'agents.agents.ddpg.DDPGAgent'>\n",
      "Setting reward <function default_reward at 0x0000018346775790>\n",
      "Setting environment ./data/citylearn_challenge_2022_phase_1/schema.json\n"
     ]
    }
   ],
   "source": [
    "%load_ext autoreload\n",
    "%autoreload 2\n",
    "\n",
    "import ipywidgets as widgets\n",
    "import threading\n",
    "import numpy as np\n",
    "import os\n",
    "from visualiser.frame_cache import *\n",
    "from ipywidgets import *\n",
    "from visualiser.train_progress_bar import set_progress_to_zero, get_object\n",
    "from train import train\n",
    "\n",
    "training_thread = threading.Thread(target=train, args=('visualiser/created_experiment.json',))\n",
    "\n",
    "def get_new_experiment_id():\n",
    "    id = 0\n",
    "    while os.path.exists(os.path.join('experiments',str(id))):\n",
    "        id += 1\n",
    "    print(f\"New experiment id:{id}\")\n",
    "    return id\n",
    "\n",
    "train_button = widgets.Button(description='Start Training',disabled=False,button_style='')\n",
    "\n",
    "def wait_for_train_finished():\n",
    "    training_thread.join()\n",
    "    # train_button.disabled = False\n",
    "    # train_button.description = 'Restart Training'\n",
    "    from IPython.display import display\n",
    "    def _show(x):\n",
    "        display(get_image_of_frame_at(x))\n",
    "    frame_slider = widgets.IntSlider(min=0, max=get_total_frame_number() - 1, value=0)\n",
    "    frame_player = widgets.Play(\n",
    "        value=0,\n",
    "        min=0,\n",
    "        max=get_total_frame_number() - 1,\n",
    "        step=1,\n",
    "        interval=500,\n",
    "        description=\"Press play\",\n",
    "        disabled=False\n",
    "    )\n",
    "    frame_input_ui = widgets.HBox([frame_player, frame_slider])\n",
    "    widgets.jslink((frame_slider, 'value'), (frame_player, 'value'))\n",
    "    img_output = widgets.interactive_output(_show, {'x': frame_slider})\n",
    "    img_ui = widgets.VBox([frame_input_ui, img_output])\n",
    "    display(img_ui)\n",
    "    \n",
    "wait_for_training_thread = threading.Thread(target=wait_for_train_finished)\n",
    "\n",
    "def train_button_clicked(c):\n",
    "    train_button.disabled = True\n",
    "    set_json_file()\n",
    "    set_progress_to_zero()\n",
    "    training_thread.start()\n",
    "    wait_for_training_thread.start()\n",
    "\n",
    "train_button.on_click(train_button_clicked)\n",
    "\n",
    "from rewards import rewards\n",
    "reward_function_vars = np.array(dir(rewards))\n",
    "reward_function_names = reward_function_vars[np.char.endswith(reward_function_vars,\"reward\")]\n",
    "\n",
    "total_episode_textbox = widgets.BoundedIntText(value=1,min=1,max=999,step=1,description='Number of episodes (years):',style={'description_width':'initial'})\n",
    "steps_per_frame_save_textbox = widgets.BoundedIntText(value=200,min=1,max=365*24-1,step=1,description='Steps per frame save:',style={'description_width':'initial'})\n",
    "reward_function_dropdown = widgets.Dropdown(options=reward_function_names, value='default_reward',description='Reward function:',style={'description_width':'initial'})\n",
    "\n",
    "import json\n",
    "def set_json_file():\n",
    "    with open('visualiser/created_experiment.json', 'r') as f:\n",
    "        json_data = json.load(f)\n",
    "        json_data['id'] = get_new_experiment_id()\n",
    "        json_data['episodes'] = total_episode_textbox.value\n",
    "        json_data['steps_per_frame_save'] = steps_per_frame_save_textbox.value\n",
    "        json_data['reward'] = reward_function_dropdown.value\n",
    "    with open('visualiser/created_experiment.json', 'w') as f:\n",
    "        f.write(json.dumps(json_data))\n",
    "\n",
    "train_progress_bar = get_object()\n",
    "set_progress_to_zero()\n",
    "experiment_input = widgets.VBox([total_episode_textbox, steps_per_frame_save_textbox, reward_function_dropdown])\n",
    "experiment_ui = widgets.VBox([experiment_input, train_button, train_progress_bar])\n",
    "display(experiment_ui)"
   ]
  }
 ],
 "metadata": {
  "kernelspec": {
   "display_name": "Python 3.9.13 64-bit (windows store)",
   "language": "python",
   "name": "python3"
  },
  "language_info": {
   "codemirror_mode": {
    "name": "ipython",
    "version": 3
   },
   "file_extension": ".py",
   "mimetype": "text/x-python",
   "name": "python",
   "nbconvert_exporter": "python",
   "pygments_lexer": "ipython3",
   "version": "3.9.13"
  },
  "orig_nbformat": 4,
  "vscode": {
   "interpreter": {
    "hash": "b5540584822a83eaeb7bd0ad0d1fb82127af7e08a51b8fb952b017841a5fa67d"
   }
  }
 },
 "nbformat": 4,
 "nbformat_minor": 2
}
